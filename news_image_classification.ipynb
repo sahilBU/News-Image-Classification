{
 "cells": [
  {
   "cell_type": "code",
   "execution_count": 1,
   "metadata": {},
   "outputs": [
    {
     "name": "stderr",
     "output_type": "stream",
     "text": [
      "/home/shared/anaconda3/lib/python3.6/site-packages/h5py/__init__.py:36: FutureWarning: Conversion of the second argument of issubdtype from `float` to `np.floating` is deprecated. In future, it will be treated as `np.float64 == np.dtype(float).type`.\n",
      "  from ._conv import register_converters as _register_converters\n",
      "Using TensorFlow backend.\n"
     ]
    }
   ],
   "source": [
    "import numpy as np\n",
    "import keras\n",
    "import os\n",
    "import tensorflow as tf\n",
    "import pandas as pd\n",
    "\n",
    "from keras.preprocessing import image\n",
    "from keras.applications.mobilenet import MobileNet\n",
    "from keras.applications.vgg16 import VGG16\n",
    "from keras.applications.inception_v3 import InceptionV3\n",
    "\n",
    "from keras.models import Model\n",
    "from keras.layers import Dense, Dropout, GlobalAveragePooling2D\n",
    "from keras.models import Sequential\n",
    "from keras import backend as K\n",
    "\n",
    "import matplotlib.pyplot as plt\n",
    "\n",
    "from PIL import Image"
   ]
  },
  {
   "cell_type": "code",
   "execution_count": 2,
   "metadata": {},
   "outputs": [],
   "source": [
    "def preprocess(img):\n",
    "    \"\"\"\n",
    "    Reshape an image to 224 x 224 x 3, so that it can be understood by our model\n",
    "    \n",
    "    Args:\n",
    "        image: an arbitary height x width x 3 image\n",
    "    Output:\n",
    "        returns the converted image\n",
    "    \"\"\"\n",
    "    \n",
    "    width, height = img.shape[0], img.shape[1]\n",
    "    \n",
    "    img = image.array_to_img(img, scale=False)\n",
    "    \n",
    "    desired_width, desired_height = 224, 224\n",
    "    \n",
    "    if width < desired_width:\n",
    "        desired_width = width\n",
    "    if height < desired_height:\n",
    "        desired_height = height\n",
    "    \n",
    "    start_x = np.maximum(0, int((width-desired_width)//2))\n",
    "    \n",
    "    img = img.crop((start_x, np.maximum(0, height-desired_height), start_x + desired_width, height))\n",
    "    \n",
    "    img = img.resize((224, 224))\n",
    "    \n",
    "    img = image.img_to_array(img)\n",
    "    \n",
    "    return img / 255  \n",
    "  "
   ]
  },
  {
   "cell_type": "code",
   "execution_count": 3,
   "metadata": {},
   "outputs": [],
   "source": [
    "def get_images(path, correct_images, is_train=True):\n",
    "    \"\"\"\n",
    "    Get all the images\n",
    "    \n",
    "    Args:\n",
    "        path               : folder path to load images from \n",
    "        correct_images     : image names which have protest label set\n",
    "        is_train           : to identify if the images to load are training images or test images\n",
    "    Output:\n",
    "        returns an array of processed images \n",
    "    \"\"\"\n",
    "    \n",
    "    files = os.listdir(path)\n",
    "    \n",
    "    files = list(map(lambda x: os.path.join(path, x), files)) # load all the images\n",
    "    \n",
    "    if is_train:\n",
    "        filtered_files = [image for image in files if image in correct_images]\n",
    "    else:\n",
    "        filtered_files = [image for image in files if image in correct_images]\n",
    "    \n",
    "    \n",
    "    train_images = filtered_files\n",
    "    \n",
    "    images = []\n",
    "    for item in train_images:\n",
    "        img = image.load_img(item)\n",
    "        img = image.img_to_array(img)\n",
    "        img = preprocess(img)\n",
    "        images.append(img)\n",
    "    \n",
    "    return images"
   ]
  },
  {
   "cell_type": "code",
   "execution_count": 4,
   "metadata": {},
   "outputs": [],
   "source": [
    "def convert_labels_to_numpy_array(items): \n",
    "    \"\"\"\n",
    "    Filter all labels based on the protest parameter\n",
    "    \n",
    "    Args:\n",
    "        items: a dataframe object of csv file\n",
    "    Output:\n",
    "        returns an array of numpy arrays    \n",
    "    \"\"\"\n",
    "    values = []\n",
    "    \n",
    "    for index, row in items.iterrows():\n",
    "\n",
    "        cats = {\n",
    "                'protest': True,\n",
    "                'violence': True,\n",
    "                'sign': True,\n",
    "                'photo': True,\n",
    "                'fire': True,\n",
    "                'police': True,\n",
    "                'children': True,\n",
    "                'group_20': True,\n",
    "                'group_100': True,\n",
    "                'flag': True,\n",
    "                'night': True,\n",
    "                'shouting': True\n",
    "               }\n",
    "\n",
    "        if row['protest']:\n",
    "            \n",
    "            array = []\n",
    "            \n",
    "            for cat in cats:\n",
    "                f = float(row[cat])\n",
    "                array.append(f)\n",
    "            \n",
    "            narray = np.array(array)\n",
    "        \n",
    "            values.append(narray)\n",
    "\n",
    "    return values"
   ]
  },
  {
   "cell_type": "code",
   "execution_count": 5,
   "metadata": {},
   "outputs": [],
   "source": [
    "def get_labels(path):\n",
    "    \"\"\"\n",
    "    Load the csv file and return an array of numpy arrays of it's objects\n",
    "    \n",
    "    Args:\n",
    "        path: a relative path to load csv file from\n",
    "    Output:\n",
    "        returns an array of the numpy objects\n",
    "    \"\"\"\n",
    "    labels = pd.read_csv(path)\n",
    "    \n",
    "    train_labels = convert_labels_to_numpy_array(labels)  \n",
    "    \n",
    "    return train_labels"
   ]
  },
  {
   "cell_type": "code",
   "execution_count": 6,
   "metadata": {},
   "outputs": [],
   "source": [
    "def reshape_images(images, size):\n",
    "    \"\"\"\n",
    "    Reshape the images array adding one more dimension as batch size\n",
    "    \n",
    "    Args:\n",
    "        images : list of images\n",
    "        size   : batch size\n",
    "    Output:\n",
    "        returns the numpy array of reshaped objects\n",
    "    \"\"\"\n",
    "    return np.asarray(images).reshape(size,224,224,3)"
   ]
  },
  {
   "cell_type": "code",
   "execution_count": 7,
   "metadata": {},
   "outputs": [],
   "source": [
    "def get_model(base_model):\n",
    "    \"\"\"\n",
    "    Get the base model and modify it \n",
    "    \n",
    "    Args:\n",
    "        base_model: It is the object of our pretrained model\n",
    "    Output:\n",
    "        returns the new_model by adding new layers and setting first few layers as \n",
    "        non trainable\n",
    "    \"\"\"\n",
    "    bottleneck_input = base_model.get_layer(index=0).input\n",
    "    bottleneck_output = base_model.get_layer(index=-2).output\n",
    "    \n",
    "    bottleneck_model = Model(inputs=bottleneck_input, outputs=bottleneck_output)\n",
    "    \n",
    "    for layer in bottleneck_model.layers:\n",
    "        \n",
    "        layer.trainable = False\n",
    "    \n",
    "    new_model = Sequential()\n",
    "    \n",
    "    new_model.add(bottleneck_model)\n",
    "    \n",
    "    new_model.add(Dense(12))\n",
    "    \n",
    "    new_model.add(Dropout(0.5))\n",
    "    \n",
    "    new_model.add(Dense(12, input_dim=2048, activation='softmax'))\n",
    "    \n",
    "    return new_model"
   ]
  },
  {
   "cell_type": "code",
   "execution_count": 8,
   "metadata": {},
   "outputs": [],
   "source": [
    "# initialize our base model\n",
    "base_model = InceptionV3()\n",
    "\n",
    "# get the new modified model\n",
    "new_model = get_model(base_model)\n",
    "\n",
    "# compile the model with optimizer, loss function and add a metrics for accuracy\n",
    "new_model.compile(optimizer='rmsprop', loss='mean_absolute_error', metrics=['accuracy'])"
   ]
  },
  {
   "cell_type": "code",
   "execution_count": 9,
   "metadata": {},
   "outputs": [],
   "source": [
    "# training labels file path\n",
    "training_labels_path = \"training.csv\"\n",
    "\n",
    "# create a dataframe object by loading that file using pandas\n",
    "df = pd.read_csv(training_labels_path)\n",
    "\n",
    "# store the image names which have protest label set\n",
    "train_image_names = {}\n",
    "\n",
    "# iterate over the file and modify the file name to \"type/filename\". Here type is either train or test.\n",
    "# this will help us in further mapping labels and images with each other\n",
    "for index, item in df.iterrows():\n",
    "    \n",
    "    if item['protest']:\n",
    "        name = \"train/\" + item['fname']\n",
    "        train_image_names[name] = True\n",
    "        \n",
    "# test labels file path\n",
    "test_labels_path = \"test.csv\"\n",
    "\n",
    "# read the test csv file\n",
    "test_df = pd.read_csv(test_labels_path)\n",
    "\n",
    "# store the test image names which have protest label set\n",
    "test_image_names = {}\n",
    "\n",
    "# iterate over the file and modify the file name to \"type/filename\". Here type is either train or test.\n",
    "# this will help us in further mapping labels and images with each other\n",
    "for index, item in test_df.iterrows():\n",
    "    \n",
    "    if item['protest']:\n",
    "        name = \"test/\" + item['fname']\n",
    "        \n",
    "        test_image_names[name] = True\n",
    "\n",
    "# path of training images folder\n",
    "training_images_path = \"train/\"\n",
    "\n",
    "# path of test images folder\n",
    "test_images_path = \"test/\"\n",
    "\n",
    "# get all the training labels\n",
    "train_labels = get_labels(training_labels_path)\n",
    "\n",
    "# get all the training images\n",
    "train_images = get_images(training_images_path, train_image_names, True)\n",
    "\n",
    "# get all the test labels\n",
    "test_labels = get_labels(test_labels_path)\n",
    "\n",
    "# get all the test images\n",
    "test_images = get_images(test_images_path, test_image_names, False)\n",
    "\n",
    "# size of our training images dataset\n",
    "train_size = len(train_images)\n",
    "\n",
    "# size of our test images dataset\n",
    "test_size = len(test_images)\n",
    "\n",
    "# reshaped train images\n",
    "reshaped_train_images = reshape_images(train_images, train_size)\n",
    "\n",
    "# reshaped test images\n",
    "reshaped_test_images = reshape_images(test_images, test_size)"
   ]
  },
  {
   "cell_type": "code",
   "execution_count": 12,
   "metadata": {},
   "outputs": [
    {
     "name": "stdout",
     "output_type": "stream",
     "text": [
      "Epoch 1/2\n",
      "9316/9316 [==============================] - 916s 98ms/step - loss: 0.2164 - acc: 0.9884\n",
      "Epoch 2/2\n",
      "9316/9316 [==============================] - 913s 98ms/step - loss: 0.2161 - acc: 0.9953\n"
     ]
    }
   ],
   "source": [
    "# fit our training images dataset\n",
    "new_model.fit(reshaped_train_images, np.array(train_labels), epochs=2, shuffle=True)\n",
    "\n",
    "# save the state of our model, so that we won't need to run it again from scratch in future\n",
    "new_model.save('news_image_with_dropout_with_dense_two.h5')"
   ]
  },
  {
   "cell_type": "code",
   "execution_count": 13,
   "metadata": {},
   "outputs": [
    {
     "name": "stdout",
     "output_type": "stream",
     "text": [
      "2343/2343 [==============================] - 244s 104ms/step\n"
     ]
    }
   ],
   "source": [
    "# predict label of our test images\n",
    "predict = new_model.predict(reshaped_test_images, verbose=1)"
   ]
  },
  {
   "cell_type": "code",
   "execution_count": 14,
   "metadata": {},
   "outputs": [
    {
     "data": {
      "text/plain": [
       "[0.21317748070984277, 1.0]"
      ]
     },
     "execution_count": 14,
     "metadata": {},
     "output_type": "execute_result"
    }
   ],
   "source": [
    "# calculate accuracy of our model\n",
    "new_model.evaluate(reshaped_test_images, np.array(test_labels), verbose=0)"
   ]
  },
  {
   "cell_type": "code",
   "execution_count": null,
   "metadata": {},
   "outputs": [],
   "source": [
    "new_model.evaluate(reshaped_test_images, np.array(test_labels), verbose=0)"
   ]
  },
  {
   "cell_type": "code",
   "execution_count": null,
   "metadata": {},
   "outputs": [],
   "source": []
  },
  {
   "cell_type": "code",
   "execution_count": null,
   "metadata": {},
   "outputs": [],
   "source": []
  },
  {
   "cell_type": "code",
   "execution_count": null,
   "metadata": {},
   "outputs": [],
   "source": []
  },
  {
   "cell_type": "code",
   "execution_count": null,
   "metadata": {},
   "outputs": [],
   "source": []
  },
  {
   "cell_type": "code",
   "execution_count": null,
   "metadata": {},
   "outputs": [],
   "source": []
  },
  {
   "cell_type": "code",
   "execution_count": null,
   "metadata": {},
   "outputs": [],
   "source": []
  },
  {
   "cell_type": "code",
   "execution_count": null,
   "metadata": {},
   "outputs": [],
   "source": []
  },
  {
   "cell_type": "code",
   "execution_count": null,
   "metadata": {},
   "outputs": [],
   "source": []
  },
  {
   "cell_type": "code",
   "execution_count": null,
   "metadata": {},
   "outputs": [],
   "source": []
  },
  {
   "cell_type": "code",
   "execution_count": null,
   "metadata": {},
   "outputs": [],
   "source": []
  },
  {
   "cell_type": "code",
   "execution_count": null,
   "metadata": {},
   "outputs": [],
   "source": []
  },
  {
   "cell_type": "code",
   "execution_count": null,
   "metadata": {},
   "outputs": [],
   "source": []
  }
 ],
 "metadata": {
  "kernelspec": {
   "display_name": "Python 3",
   "language": "python",
   "name": "python3"
  }
 },
 "nbformat": 4,
 "nbformat_minor": 2
}
