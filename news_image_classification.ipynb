{
 "cells": [
  {
   "cell_type": "code",
   "execution_count": 83,
   "metadata": {},
   "outputs": [],
   "source": [
    "import numpy as np\n",
    "import keras\n",
    "import os\n",
    "import tensorflow as tf\n",
    "import pandas as pd\n",
    "\n",
    "from keras.preprocessing import image\n",
    "from keras.applications.mobilenet import MobileNet\n",
    "from keras.applications.vgg16 import VGG16\n",
    "from keras.applications.inception_v3 import InceptionV3\n",
    "\n",
    "from keras.models import Model\n",
    "from keras.layers import Dense, GlobalAveragePooling2D\n",
    "from keras.models import Sequential\n",
    "from keras import backend as K\n",
    "\n",
    "from PIL import Image"
   ]
  },
  {
   "cell_type": "code",
   "execution_count": 84,
   "metadata": {},
   "outputs": [],
   "source": [
    "def preprocess(img):\n",
    "    \n",
    "    width, height = img.shape[0], img.shape[1]\n",
    "    \n",
    "    img = image.array_to_img(img, scale=False)\n",
    "    \n",
    "    desired_width, desired_height = 224, 224\n",
    "    \n",
    "    if width < desired_width:\n",
    "        desired_width = width\n",
    "    if height < desired_height:\n",
    "        desired_height = height\n",
    "    \n",
    "    start_x = np.maximum(0, int((width-desired_width)//2))\n",
    "    \n",
    "    img = img.crop((start_x, np.maximum(0, height-desired_height), start_x + desired_width, height))\n",
    "    \n",
    "    img = img.resize((224, 224))\n",
    "    \n",
    "    img = image.img_to_array(img)\n",
    "    \n",
    "    return img / 255  \n",
    "  "
   ]
  },
  {
   "cell_type": "code",
   "execution_count": 85,
   "metadata": {},
   "outputs": [],
   "source": [
    "def get_images(path, correct_images, is_train=True):\n",
    "    \n",
    "    files = os.listdir(path)\n",
    "    \n",
    "    files = list(map(lambda x: os.path.join(path, x), files)) # load all the training images\n",
    "    \n",
    "    if is_train:\n",
    "        filtered_files = [image for image in files if image in correct_images]\n",
    "    else:\n",
    "        filtered_files = [image for image in files if image in correct_images]\n",
    "    \n",
    "    \n",
    "    train_images = filtered_files\n",
    "    \n",
    "    images = []\n",
    "    for item in train_images:\n",
    "        img = image.load_img(item)\n",
    "        img = image.img_to_array(img)\n",
    "        img = preprocess(img)\n",
    "        images.append(img)\n",
    "    \n",
    "    return images"
   ]
  },
  {
   "cell_type": "code",
   "execution_count": 86,
   "metadata": {},
   "outputs": [],
   "source": [
    "def convert_labels_to_numpy_array(items): \n",
    "    values = []\n",
    "    \n",
    "    for index, row in items.iterrows():\n",
    "\n",
    "        cats = {\n",
    "                'protest': True,\n",
    "                'violence': True,\n",
    "                'sign': True,\n",
    "                'photo': True,\n",
    "                'fire': True,\n",
    "                'police': True,\n",
    "                'children': True,\n",
    "                'group_20': True,\n",
    "                'group_100': True,\n",
    "                'flag': True,\n",
    "                'night': True,\n",
    "                'shouting': True\n",
    "               }\n",
    "\n",
    "        if row['protest']:\n",
    "            \n",
    "            array = []\n",
    "            \n",
    "            for cat in cats:\n",
    "                f = float(row[cat])\n",
    "                array.append(f)\n",
    "            \n",
    "            narray = np.array(array)\n",
    "        \n",
    "            values.append(narray)\n",
    "\n",
    "    return values"
   ]
  },
  {
   "cell_type": "code",
   "execution_count": 87,
   "metadata": {},
   "outputs": [],
   "source": [
    "def get_labels(path):\n",
    "    \n",
    "    labels = pd.read_csv(path) # load csv of text data provided\n",
    "    \n",
    "    ll = convert_labels_to_numpy_array(labels)\n",
    " \n",
    "    train_labels = ll    # train only in 20 images first\n",
    "    \n",
    "    return train_labels"
   ]
  },
  {
   "cell_type": "code",
   "execution_count": 88,
   "metadata": {},
   "outputs": [],
   "source": [
    "def reshape_images(images, size):\n",
    "    return np.asarray(images).reshape(size,224,224,3)"
   ]
  },
  {
   "cell_type": "code",
   "execution_count": 89,
   "metadata": {},
   "outputs": [],
   "source": [
    "def get_model(base_model):\n",
    "    \n",
    "    bottleneck_input = base_model.get_layer(index=0).input\n",
    "    bottleneck_output = base_model.get_layer(index=-2).output\n",
    "    \n",
    "    bottleneck_model = Model(inputs=bottleneck_input, outputs=bottleneck_output)\n",
    "    \n",
    "    for layer in bottleneck_model.layers:\n",
    "        \n",
    "        layer.trainable = False\n",
    "    \n",
    "    new_model = Sequential()\n",
    "    \n",
    "    new_model.add(bottleneck_model)\n",
    "    \n",
    "    new_model.add(Dense(12, input_dim=2048, activation='softmax'))\n",
    "    \n",
    "    return new_model"
   ]
  },
  {
   "cell_type": "code",
   "execution_count": 90,
   "metadata": {},
   "outputs": [],
   "source": [
    "base_model = InceptionV3()\n",
    "\n",
    "new_model = get_model(base_model)\n",
    "\n",
    "new_model.compile(optimizer='rmsprop', loss='binary_crossentropy', metrics=['accuracy'])"
   ]
  },
  {
   "cell_type": "code",
   "execution_count": 91,
   "metadata": {},
   "outputs": [],
   "source": [
    "training_labels_path = \"training.csv\"\n",
    "\n",
    "df = pd.read_csv(training_labels_path)\n",
    "\n",
    "train_image_names = {}\n",
    "\n",
    "for index, item in df.iterrows():\n",
    "    \n",
    "    if item['protest']:\n",
    "        name = \"train/\" + item['fname']\n",
    "        train_image_names[name] = True\n",
    "\n",
    "\n",
    "test_labels_path = \"test.csv\"\n",
    "\n",
    "test_df = pd.read_csv(test_labels_path)\n",
    "\n",
    "test_image_names = {}\n",
    "\n",
    "for index, item in test_df.iterrows():\n",
    "    \n",
    "    if item['protest']:\n",
    "        name = \"test/\" + item['fname']\n",
    "        \n",
    "        test_image_names[name] = True\n",
    "        \n",
    "training_images_path = \"train/\"\n",
    "\n",
    "test_labels_path = \"test.csv\"\n",
    "\n",
    "test_images_path = \"test/\"\n",
    "\n",
    "train_labels = get_labels(training_labels_path)\n",
    "\n",
    "train_images = get_images(training_images_path, train_image_names, True)\n",
    "\n",
    "test_labels = get_labels(test_labels_path)\n",
    "\n",
    "test_images = get_images(test_images_path, test_image_names, False)\n",
    "\n",
    "train_size = len(train_images)\n",
    "\n",
    "test_size = len(test_images)\n",
    "\n",
    "reshaped_train_images = reshape_images(train_images, train_size)\n",
    "\n",
    "reshaped_test_images = reshape_images(test_images, test_size)"
   ]
  },
  {
   "cell_type": "code",
   "execution_count": null,
   "metadata": {},
   "outputs": [
    {
     "name": "stdout",
     "output_type": "stream",
     "text": [
      "Epoch 1/5\n",
      "2464/9316 [======>.......................] - ETA: 11:24 - loss: 0.6244 - acc: 0.6498"
     ]
    }
   ],
   "source": [
    "new_model.fit(reshaped_train_images, np.array(train_labels), epochs=5, shuffle=True)"
   ]
  },
  {
   "cell_type": "code",
   "execution_count": null,
   "metadata": {},
   "outputs": [],
   "source": [
    "predict = new_model.predict(reshaped_test_images, verbose=1)"
   ]
  },
  {
   "cell_type": "code",
   "execution_count": null,
   "metadata": {},
   "outputs": [],
   "source": [
    "new_model.evaluate(reshaped_test_images, np.array(test_labels), verbose=0)"
   ]
  },
  {
   "cell_type": "code",
   "execution_count": null,
   "metadata": {},
   "outputs": [],
   "source": []
  },
  {
   "cell_type": "code",
   "execution_count": null,
   "metadata": {},
   "outputs": [],
   "source": []
  },
  {
   "cell_type": "code",
   "execution_count": null,
   "metadata": {},
   "outputs": [],
   "source": [
    "# base_model = InceptionV3(weights='imagenet', include_top=False)"
   ]
  },
  {
   "cell_type": "code",
   "execution_count": null,
   "metadata": {},
   "outputs": [],
   "source": [
    "# x = base_model.output\n",
    "\n",
    "# x = GlobalAveragePooling2D()(x)\n",
    "\n",
    "# x = Dense(2048, activation='relu')(x)\n",
    "\n",
    "# # and a logistic layer -- let's say we have 10 classes\n",
    "# predictions = Dense(10, activation='softmax')(x)\n",
    "\n",
    "# model = Model(inputs=base_model.input, outputs=predictions)\n",
    "\n",
    "# for layer in base_model.layers:\n",
    "#     layer.trainable = False\n",
    "    \n",
    "# model.compile(optimizer='rmsprop', loss='categorical_crossentropy')\n",
    "\n",
    "# model.fit(fimages, train_labels,\n",
    "#                     steps_per_epoch=10000, epochs=10)\n",
    "\n"
   ]
  },
  {
   "cell_type": "code",
   "execution_count": null,
   "metadata": {},
   "outputs": [],
   "source": []
  },
  {
   "cell_type": "code",
   "execution_count": null,
   "metadata": {},
   "outputs": [],
   "source": []
  },
  {
   "cell_type": "code",
   "execution_count": null,
   "metadata": {},
   "outputs": [],
   "source": []
  },
  {
   "cell_type": "code",
   "execution_count": null,
   "metadata": {},
   "outputs": [],
   "source": []
  },
  {
   "cell_type": "code",
   "execution_count": null,
   "metadata": {},
   "outputs": [],
   "source": []
  },
  {
   "cell_type": "code",
   "execution_count": null,
   "metadata": {},
   "outputs": [],
   "source": []
  },
  {
   "cell_type": "code",
   "execution_count": null,
   "metadata": {},
   "outputs": [],
   "source": []
  },
  {
   "cell_type": "code",
   "execution_count": null,
   "metadata": {},
   "outputs": [],
   "source": []
  },
  {
   "cell_type": "code",
   "execution_count": null,
   "metadata": {},
   "outputs": [],
   "source": []
  }
 ],
 "metadata": {
  "kernelspec": {
   "display_name": "Python 3",
   "language": "python",
   "name": "python3"
  },
  "language_info": {
   "codemirror_mode": {
    "name": "ipython",
    "version": 3
   },
   "file_extension": ".py",
   "mimetype": "text/x-python",
   "name": "python",
   "nbconvert_exporter": "python",
   "pygments_lexer": "ipython3",
   "version": "3.6.4"
  }
 },
 "nbformat": 4,
 "nbformat_minor": 2
}
