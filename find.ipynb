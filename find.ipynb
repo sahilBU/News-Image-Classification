{
 "cells": [
  {
   "cell_type": "code",
   "execution_count": 1,
   "metadata": {},
   "outputs": [],
   "source": [
    "import numpy as np"
   ]
  },
  {
   "cell_type": "code",
   "execution_count": 2,
   "metadata": {},
   "outputs": [],
   "source": [
    "import pandas as pd"
   ]
  },
  {
   "cell_type": "code",
   "execution_count": 13,
   "metadata": {},
   "outputs": [],
   "source": [
    "import tensorflow as tf"
   ]
  },
  {
   "cell_type": "code",
   "execution_count": 14,
   "metadata": {},
   "outputs": [],
   "source": [
    "import os"
   ]
  },
  {
   "cell_type": "code",
   "execution_count": 31,
   "metadata": {},
   "outputs": [],
   "source": [
    "from collections import defaultdict"
   ]
  },
  {
   "cell_type": "code",
   "execution_count": 12,
   "metadata": {},
   "outputs": [],
   "source": [
    "from PIL import Image"
   ]
  },
  {
   "cell_type": "code",
   "execution_count": 33,
   "metadata": {},
   "outputs": [],
   "source": [
    "def load_images(folder):\n",
    "    \"\"\"\n",
    "    Load the images in three categories - actual images, annotated images, and verification images\n",
    "    \"\"\"\n",
    "    actual_images = []\n",
    "    annotation = []\n",
    "    verification = []\n",
    "    for filename in os.listdir(folder):\n",
    "        if \".txt\" not in filename:\n",
    "            img = Image.open(os.path.join(folder, filename))\n",
    "            if \"annotation\" in filename:\n",
    "                annotation.append(img)\n",
    "            elif \"verification\" in filename:\n",
    "                verification.append(img)\n",
    "            else:\n",
    "                actual_images.append(img)\n",
    "    return actual_images, annotation, verification"
   ]
  },
  {
   "cell_type": "code",
   "execution_count": 35,
   "metadata": {},
   "outputs": [],
   "source": [
    "categories = [\"airplane\", \"basketball\", \"bear\", \"bicycle\", \"bird\", \"boat\", \"book\", \"bottle\", \"bus\", \"car\", \"cat\", \n",
    "              \"cattle\", \"chameleon\", \"coin\", \"crab\", \"crocodile\", \"cup\", \"deer\", \"dog\", \"drone\", \"electricfan\", \n",
    "              \"elephant\", \"flag\", \"fox\", \"frog\", \"gametarget\", \"gecko\", \"giraffe\", \"goldfish\", \"gorilla\",\n",
    "              \"guitar\", \"hand\", \"hat\", \"helmet\", \"hippo\", \"horse\", \"kangaroo\", \"kite\", \"leopard\", \"licenseplate\",\n",
    "              \"lion\", \"lizard\", \"microphone\", \"monkey\", \"motorcycle\", \"mouse\", \"person\", \"pig\", \"pool\", \"rabbit\", \n",
    "              \"racing\", \"robot\", \"rubicCube\", \"sepia\", \"shark\", \"sheep\", \"skateboard\", \"spider\", \"squirrel\", \"surfboard\",\n",
    "              \"swing\", \"tank\", \"tiger\", \"train\", \"truck\", \"turtle\", \"umbrella\", \"volleyball\", \"yoyo\", \"zebra\"\n",
    "             ]"
   ]
  },
  {
   "cell_type": "code",
   "execution_count": 29,
   "metadata": {},
   "outputs": [],
   "source": [
    "def get_all_paths(categories):\n",
    "    \"\"\"\n",
    "    return all possible paths for the different categories\n",
    "    \"\"\"\n",
    "    paths = []\n",
    "    for category in categories:\n",
    "        path = \"data/annotation/\"\n",
    "        for i in range(1, 21):\n",
    "            newpath = path + category + \"/\" + category + \"-\" + str(i)\n",
    "            paths.append(newpath)\n",
    "    return paths"
   ]
  },
  {
   "cell_type": "code",
   "execution_count": 36,
   "metadata": {},
   "outputs": [],
   "source": [
    "paths = get_all_paths(categories)\n",
    "for path in paths:\n",
    "    load_images(path)"
   ]
  },
  {
   "cell_type": "code",
   "execution_count": null,
   "metadata": {},
   "outputs": [],
   "source": []
  }
 ],
 "metadata": {
  "kernelspec": {
   "display_name": "Python 3",
   "language": "python",
   "name": "python3"
  },
  "language_info": {
   "codemirror_mode": {
    "name": "ipython",
    "version": 3
   },
   "file_extension": ".py",
   "mimetype": "text/x-python",
   "name": "python",
   "nbconvert_exporter": "python",
   "pygments_lexer": "ipython3",
   "version": "3.6.5"
  }
 },
 "nbformat": 4,
 "nbformat_minor": 2
}
